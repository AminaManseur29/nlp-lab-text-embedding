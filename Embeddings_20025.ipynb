{
 "cells": [
  {
   "cell_type": "markdown",
   "metadata": {},
   "source": [
    "#  NLP-lab :  Word embeddings\n",
    "\n",
    "In this series of exercises, we will explore three word embeddings:\n",
    "\n",
    "* [Collobert & Weston](http://www.jmlr.org/papers/volume12/collobert11a/collobert11a.pdf) https://ronan.collobert.com/senna/\n",
    "* [Word2Vec](https://arxiv.org/abs/1301.3781)\n",
    "* [BERT](https://huggingface.co/bert-base-uncased) \n",
    "\n",
    "\n",
    "In the code already provided, add your code to the place indicated by `YOUR CODE HERE`.\n",
    "\n",
    "**Important** : do NOT commit the data and embedding files in your repository git : it is a waste of resources and it takes more time to clone.\n",
    "> Use https://docs.github.com/en/get-started/getting-started-with-git/ignoring-files\n"
   ]
  },
  {
   "cell_type": "code",
   "execution_count": 1,
   "metadata": {},
   "outputs": [],
   "source": [
    "# basic imports\n",
    "import os\n",
    "import matplotlib.pyplot as plt\n",
    "# display matplotlib graphics in notebook\n",
    "%matplotlib inline \n",
    "import seaborn as sns\n",
    "\n",
    "# disable warnings for libraries\n",
    "import warnings\n",
    "warnings.filterwarnings(\"ignore\")\n",
    "\n",
    "# configure logger\n",
    "import logging\n",
    "logging.basicConfig(format='%(asctime)s %(levelname)s:%(message)s', level=logging.INFO, datefmt='%I:%M:%S')\n",
    "logger = logging.getLogger(__name__)\n"
   ]
  },
  {
   "cell_type": "markdown",
   "metadata": {},
   "source": [
    "###  Embeddings exploration with Collobert's embeddings\n",
    "\n",
    "Upload the files containing the embeddings to `data`:\n",
    "* Collobert (size 50): [collobert_embeddings.txt.zip](https://storage.teklia.com/shared/deepnlp-labs/collobert_embeddings.txt.zip) which contains the embedding vectors and [collobert_words.lst](https://storage.teklia.com/shared/deepnlp-labs/collobert_words.lst) which contains the associated words;\n",
    "\n",
    "You need to unzip the files to load them.\n",
    "\n",
    "Feel free to open the files to see what they contain (it's sometimes surprising).\n",
    "\n",
    "#### Question: \n",
    ">* Add the files to your .gitignore\n",
    ">* Give the size in Mb of the embeddings files before unzipping.\n",
    ">* By exploring the content of the embedding files, give the number of words for which these files provide embeddings.\n",
    "\n"
   ]
  },
  {
   "cell_type": "markdown",
   "metadata": {},
   "source": [
    "The size of the embeddings files before unzipping is 58 Ko that is 0.057 Mb."
   ]
  },
  {
   "cell_type": "code",
   "execution_count": 2,
   "metadata": {},
   "outputs": [
    {
     "name": "stdout",
     "output_type": "stream",
     "text": [
      "Nombre de mots avec embeddings : 130000\n"
     ]
    }
   ],
   "source": [
    "with open(\"data/collobert_embeddings.txt\", \"r\", encoding=\"utf-8\") as f:\n",
    "    num_words = sum(1 for line in f)\n",
    "\n",
    "print(f\"Nombre de mots avec embeddings : {num_words}\")"
   ]
  },
  {
   "cell_type": "code",
   "execution_count": 3,
   "metadata": {},
   "outputs": [
    {
     "name": "stdout",
     "output_type": "stream",
     "text": [
      "         0         1         2         3         4         5         6   \\\n",
      "0 -1.036820  1.778560 -0.693547  1.594800  1.579900  0.859243  1.152210   \n",
      "1 -2.190670  1.166420 -1.913850 -0.269672  0.712771 -0.623024 -3.201150   \n",
      "2  1.166720  0.811884 -0.115492 -2.590490 -1.502860  1.253600  1.442810   \n",
      "3 -0.598537  1.872130  0.050485  1.054730 -0.189333 -1.058490 -0.224054   \n",
      "4 -1.096870 -0.461590 -0.257071  1.223300 -0.065629  0.596364 -1.534670   \n",
      "\n",
      "         7         8         9   ...        40        41        42        43  \\\n",
      "0 -0.976317  0.745304 -0.494589  ... -1.472470  0.541779 -2.570050 -0.227714   \n",
      "1  0.560895  0.891554  0.145258  ... -1.172540  1.384490  2.386170 -0.083885   \n",
      "2  0.013662  0.131499  2.044450  ... -0.372069 -2.450760  0.514557 -1.402800   \n",
      "3 -0.994636 -0.337632  0.863467  ...  0.417528  1.005570 -1.407400  0.164539   \n",
      "4 -0.162787  0.013688 -1.252540  ...  1.213090  1.294340  1.415750 -0.778843   \n",
      "\n",
      "         44        45        46        47        48        49  \n",
      "0 -0.817816 -0.552209  0.360149 -0.102780 -0.364280 -0.648530  \n",
      "1 -1.806980  0.622097  0.223875  0.870654 -0.338080 -0.419570  \n",
      "2 -1.203960  0.726036  2.412650 -0.104843  2.268620  1.217290  \n",
      "3  1.163880 -0.073569  0.624068  0.432280  1.262400 -2.131030  \n",
      "4 -1.759220  0.636875  2.289440  0.326230  0.669579  0.596047  \n",
      "\n",
      "[5 rows x 50 columns]\n",
      "Nombre de lignes (embeddings) : 130000\n",
      "Dimension des embeddings : 50\n"
     ]
    }
   ],
   "source": [
    "import pandas as pd\n",
    "\n",
    "# Lire le fichier en tant que matrice de nombres\n",
    "df = pd.read_csv(\"data/collobert_embeddings.txt\", sep=\" \", header=None)\n",
    "\n",
    "# Afficher les 5 premières lignes\n",
    "print(df.head())\n",
    "\n",
    "# Afficher la taille de la matrice\n",
    "print(f\"Nombre de lignes (embeddings) : {df.shape[0]}\")\n",
    "print(f\"Dimension des embeddings : {df.shape[1]}\")"
   ]
  },
  {
   "cell_type": "markdown",
   "metadata": {},
   "source": [
    "### List of closest words\n",
    "\n",
    "The aim of this exercise is to list the closest words to a given word for the Collobert embedding. First, we'll load the vectors of the Collobert embedding into a numpy array and the associated words into a python list. Then we'll use the [scipy KDTree](https://docs.scipy.org/doc/scipy/reference/generated/scipy.spatial.KDTree.html) data structure to quickly search for the vectors closest to a series of words.\n",
    "\n",
    "\n",
    "#### Question: \n",
    ">* load embedding vectors from the file `data/collobert_embeddings.txt` using the numpy function [genfromtxt](https://numpy.org/doc/stable/reference/generated/numpy.genfromtxt.html)\n",
    ">* load the words associated with the vectors from the `data/collobert_words.lst` file into a python list (using `open()` and `readlines()`)\n",
    ">* check that the sizes are correct\n"
   ]
  },
  {
   "cell_type": "code",
   "execution_count": 4,
   "metadata": {},
   "outputs": [
    {
     "name": "stdout",
     "output_type": "stream",
     "text": [
      "(130000, 50)\n"
     ]
    }
   ],
   "source": [
    "import numpy as np\n",
    "\n",
    "# Charger les embeddings en supposant qu'il n'y a que des nombres (pas de mots)\n",
    "embeddings = np.genfromtxt(\"data/collobert_embeddings.txt\", delimiter=\" \")\n",
    "\n",
    "# Afficher un aperçu\n",
    "print(embeddings.shape)  # Affiche la taille (nombre de vecteurs, dimension des embeddings)"
   ]
  },
  {
   "cell_type": "code",
   "execution_count": 5,
   "metadata": {},
   "outputs": [
    {
     "name": "stdout",
     "output_type": "stream",
     "text": [
      "Nombre de mots : 130000\n",
      "Aperçu des premiers mots : ['!', '!_____!____________!_____!_____!_______!_____!_______!______', '\"', '#', '####', '#0', '#0&btr', '#aaa', '#n', '#value']\n"
     ]
    }
   ],
   "source": [
    "# Ouvrir le fichier et lire toutes les lignes\n",
    "with open(\"data/collobert_words.lst\", \"r\", encoding=\"utf-8\") as f:\n",
    "    words = f.readlines()\n",
    "\n",
    "# Supprimer les éventuels sauts de ligne (\\n)\n",
    "words = [word.strip() for word in words]\n",
    "\n",
    "# Afficher quelques mots pour vérifier\n",
    "print(f\"Nombre de mots : {len(words)}\")\n",
    "print(\"Aperçu des premiers mots :\", words[:10])"
   ]
  },
  {
   "cell_type": "markdown",
   "metadata": {},
   "source": [
    "Les dimensions sont correctes, les données représentent les embeddings de 130 000 mots (ou chaînes de caractères) vectorisés en dimension 50."
   ]
  },
  {
   "cell_type": "markdown",
   "metadata": {},
   "source": [
    "KD trees are a very efficient data structure for storing large sets of points in a multi-dimensional space and performing very efficient nearest-neighbour searches. \n",
    "\n",
    "#### Question \n",
    "> * Initialise the [KDTree](https://docs.scipy.org/doc/scipy/reference/generated/scipy.spatial.KDTree.html) structure with Collobert's embedding vectors.\n",
    "> * Using the [tree.query](https://docs.scipy.org/doc/scipy/reference/generated/scipy.spatial.KDTree.query.html#scipy.spatial.KDTree.query) function, display the 5 nearest words for the following words: ‘mother’, ‘computer’, ‘dentist’, ‘war’, ‘president’, ‘secretary’, ‘nurse’.  *Hint: you can use the function `collobert_words.index(w)` to obtain the index of a word in the list of words*.\n",
    "> * Create a `words_plus_neighbors` list containing the words and all their neighbours (for the next question)"
   ]
  },
  {
   "cell_type": "code",
   "execution_count": 6,
   "metadata": {},
   "outputs": [
    {
     "name": "stdout",
     "output_type": "stream",
     "text": [
      "Top 5 voisins de 'mother': ['mother', 'daughter', 'wife', 'father', 'husband']\n",
      "Top 5 voisins de 'computer': ['computer', 'laptop', 'multimedia', 'desktop', 'software']\n",
      "Top 5 voisins de 'dentist': ['dentist', 'pharmacist', 'midwife', 'physician', 'housekeeper']\n",
      "Top 5 voisins de 'war': ['war', 'revolution', 'death', 'court', 'independence']\n",
      "Top 5 voisins de 'president': ['president', 'governor', 'chairman', 'mayor', 'secretary']\n",
      "Top 5 voisins de 'secretary': ['secretary', 'minister', 'treasurer', 'chairman', 'commissioner']\n",
      "Top 5 voisins de 'nurse': ['nurse', 'physician', 'veterinarian', 'dentist', 'surgeon']\n"
     ]
    }
   ],
   "source": [
    "from scipy.spatial import KDTree\n",
    "\n",
    "# Initialiser le KDTree avec les embeddings\n",
    "kdtree = KDTree(embeddings)\n",
    "\n",
    "# Liste des mots à analyser\n",
    "target_words = ['mother', 'computer', 'dentist', 'war', 'president', 'secretary', 'nurse']\n",
    "\n",
    "words_plus_neighbors = []\n",
    "\n",
    "# Trouver et afficher les 5 mots les plus proches pour chaque mot cible\n",
    "for word in target_words:\n",
    "    if word in words:\n",
    "        word_idx = words.index(word)  # Obtenir l'index du mot\n",
    "        distances, indices = kdtree.query(embeddings[word_idx], k=5)  # Trouver les 5 voisins les plus proches\n",
    "        \n",
    "        nearest_words = [words[i] for i in indices]  # Récupérer les mots correspondants\n",
    "        words_plus_neighbors.append(nearest_words)\n",
    "        print(f\"Top 5 voisins de '{word}': {nearest_words}\")\n",
    "    else:\n",
    "        print(f\"Le mot '{word}' n'est pas dans la liste des embeddings.\")\n",
    " "
   ]
  },
  {
   "cell_type": "code",
   "execution_count": 7,
   "metadata": {},
   "outputs": [
    {
     "data": {
      "text/plain": [
       "[['mother', 'daughter', 'wife', 'father', 'husband'],\n",
       " ['computer', 'laptop', 'multimedia', 'desktop', 'software'],\n",
       " ['dentist', 'pharmacist', 'midwife', 'physician', 'housekeeper'],\n",
       " ['war', 'revolution', 'death', 'court', 'independence'],\n",
       " ['president', 'governor', 'chairman', 'mayor', 'secretary'],\n",
       " ['secretary', 'minister', 'treasurer', 'chairman', 'commissioner'],\n",
       " ['nurse', 'physician', 'veterinarian', 'dentist', 'surgeon']]"
      ]
     },
     "execution_count": 7,
     "metadata": {},
     "output_type": "execute_result"
    }
   ],
   "source": [
    "words_plus_neighbors"
   ]
  },
  {
   "cell_type": "markdown",
   "metadata": {},
   "source": [
    "### Visualisation with T-SNE\n",
    "\n",
    "Embeddings are vectors with several hundred dimensions. It is therefore not possible to display them in their original space. However, it is possible to apply dimension reduction algorithms to display them in 2 or 3 dimensions. One of the dimension reduction algorithms allowing 2D visualisation is [tSNE](https://en.wikipedia.org/wiki/T-distributed_stochastic_neighbor_embedding). \n",
    "\n",
    "#### Question\n",
    "> * Create a `word_vectors` object of type `np.array` from a list containing all the embeddings of the words in the `words_plus_neighbors` list.\n",
    "> * Create a tSNE object from the `from sklearn.manifold import TSNE` library with the parameters `random_state=0`, `n_iter=2000` and `perplexity=15.0` for a 2-dimensional view.\n",
    "> * Calculate *T* the tSNE transformation of the `word_vectors` by applying function `.fit_transform(word_vectors)` to the tSNE object. This function estimates the parameters of the tSNE transformation and returns the reduced-dimension representation of the vectors used for estimation.\n",
    "> * Use the `scatterplot` function from [seaborn](https://seaborn.pydata.org/generated/seaborn.scatterplot.html) to represent points in 2 dimensions and add word labels using the `plt.annotate` function."
   ]
  },
  {
   "cell_type": "code",
   "execution_count": 9,
   "metadata": {},
   "outputs": [
    {
     "data": {
      "image/png": "[encoded data removed]",
      "text/plain": [
       "<Figure size 1400x800 with 1 Axes>"
      ]
     },
     "metadata": {},
     "output_type": "display_data"
    }
   ],
   "source": [
    "from sklearn.manifold import TSNE\n",
    "# graphics\n",
    "import matplotlib.pyplot as plt\n",
    "# display matplotlib graphics in notebook\n",
    "%matplotlib inline \n",
    "import seaborn as sns\n",
    "\n",
    "# retrieve the word representation\n",
    "flat_words = [word for group in words_plus_neighbors for word in group]\n",
    "word_vectors = np.array([embeddings[words.index(word)] for word in flat_words if word in words])\n",
    "\n",
    "# create the tSNE transform\n",
    "tSNE_trans = TSNE(perplexity=15.0, random_state=0, n_iter=2000)\n",
    "\n",
    "# fit and transform the word vectors, store in T\n",
    "T = tSNE_trans.fit_transform(word_vectors)\n",
    "\n",
    "# plot\n",
    "fig = plt.figure(figsize=(14, 8))\n",
    "fig.patch.set_facecolor('#f9f9f9')\n",
    "\n",
    "sns.set(style=\"whitegrid\")\n",
    "sns.scatterplot(x=T[:, 0], y=T[:, 1])\n",
    "\n",
    "for word, x, y in zip(flat_words, T[:, 0], T[:, 1]):\n",
    "    plt.annotate(word, xy=(x, y), xytext=(5, 2), textcoords='offset points', fontsize=10)\n",
    "\n",
    "plt.show()\n"
   ]
  },
  {
   "cell_type": "markdown",
   "metadata": {},
   "source": [
    "### Semantic arithmetic with Word2Vec\n",
    "\n",
    "One of the most original properties of Word2Vec embeddings is that the semantic relationships between vectors can be modelled by arithmetic operations. Given vectors representing the words `king`, `man` and `woman`, it is possible to compute the vector `v` as :  \n",
    "\n",
    "`v = vector(king)-vector(man)+vector(woman)`\n",
    "\n",
    "This operation corresponds to the following semantic relationship: *The king is to the man what the queen is to the woman*, which translates into the following arithmetic: *the concept of king, minus the concept of man plus the concept of woman gives the concept of queen*.\n",
    "\n",
    "In fact, if we look in the embedding for the word whose closest vector is `v`, we find `reine`.\n",
    "\n",
    "\n",
    "We will use a Word2Vec model pre-trained on the French Wac corpus.  This model has been trained on a corpus of 1 billion French words. \n",
    "\n",
    "This embedding is available in 2 formats:\n",
    "- a text format for easy exploration of the model :\n",
    "    - frWac_non_lem_no_postag_no_phrase_200_cbow_cut100.txt](https://storage.teklia.com/shared/deepnlp-labs/frWac_non_lem_no_postag_no_phrase_200_cbow_cut100.txt)\n",
    "- a binary format that can be loaded using the Gensim library: \n",
    "    - [enWac_non_lem_no_postag_no_phrase_200_cbow_cut100.bin](https://storage.teklia.com/shared/deepnlp-labs/frWac_non_lem_no_postag_no_phrase_200_cbow_cut100.bin)\n",
    "\n",
    "Download the text file onto your machine to analyse it.\n",
    "\n",
    "#### Question: \n",
    ">* Add the file to your .gitignore\n",
    ">* Give the size in Mb of the embedding files\n",
    ">* By exploring the contents of the embedding file in text format, give the number of words for which this model provides embeddings and the size of the embedding for each word.\n",
    "\n"
   ]
  },
  {
   "cell_type": "markdown",
   "metadata": {},
   "source": [
    "The number of words for which this model provides embeddings is 155562 and the size of the embedding for each word is 200."
   ]
  },
  {
   "cell_type": "markdown",
   "metadata": {},
   "source": [
    "#### Word similarity\n",
    "\n",
    "We are now going to use the [Gensim] library (https://radimrehurek.com/gensim/) to load the Word2Vec model and use it. \n",
    "\n",
    "#### Question: \n",
    ">* Modify the following code to load the Word2Vec template file in binary format using [load_word2vec](https://radimrehurek.com/gensim/models/keyedvectors.html#how-to-obtain-word-vectors)\n",
    ">* Choose a couple of words and find the closest words according to the model using [most_similar](https://radimrehurek.com/gensim/models/keyedvectors.html#gensim.models.keyedvectors.KeyedVectors.most_similar)\n",
    ">* To guess the meaning of the words ‘yokohama’, ‘kanto’ and ‘shamisen’, look for their nearest neighbours. Explain the results.\n"
   ]
  },
  {
   "cell_type": "code",
   "execution_count": 16,
   "metadata": {},
   "outputs": [
    {
     "name": "stderr",
     "output_type": "stream",
     "text": [
      "11:50:03 INFO:loading projection weights from data/frWac_non_lem_no_postag_no_phrase_200_cbow_cut100.bin\n",
      "11:50:07 INFO:KeyedVectors lifecycle event {'msg': 'loaded (155562, 200) matrix of type float32 from data/frWac_non_lem_no_postag_no_phrase_200_cbow_cut100.bin', 'binary': True, 'encoding': 'utf8', 'datetime': '2025-02-22T11:50:07.802137', 'gensim': '4.3.3', 'python': '3.11.9 (tags/v3.11.9:de54cf5, Apr  2 2024, 10:12:12) [MSC v.1938 64 bit (AMD64)]', 'platform': 'Windows-10-10.0.19045-SP0', 'event': 'load_word2vec_format'}\n"
     ]
    },
    {
     "data": {
      "text/plain": [
       "[('commandeur', 0.6844523549079895),\n",
       " ('chevaliers', 0.6799763441085815),\n",
       " ('écuyer', 0.6333731412887573),\n",
       " ('grand-croix', 0.621898353099823),\n",
       " ('preux', 0.6011075377464294),\n",
       " ('chevalerie', 0.5404021143913269),\n",
       " ('légion', 0.5335969924926758),\n",
       " ('honneur', 0.4953608810901642),\n",
       " ('yvain', 0.4855087101459503),\n",
       " ('insignes', 0.4742659330368042)]"
      ]
     },
     "execution_count": 16,
     "metadata": {},
     "output_type": "execute_result"
    }
   ],
   "source": [
    "from gensim.models import KeyedVectors\n",
    "\n",
    "## YOUR CODE HERE\n",
    "embedding_file =\"data/frWac_non_lem_no_postag_no_phrase_200_cbow_cut100.bin\"\n",
    "model = KeyedVectors.load_word2vec_format(embedding_file, binary=True, unicode_errors=\"ignore\")\n",
    "## YOUR CODE HERE\n",
    "model.most_similar(\"chevalier\")"
   ]
  },
  {
   "cell_type": "code",
   "execution_count": 17,
   "metadata": {},
   "outputs": [
    {
     "data": {
      "text/plain": [
       "[('quartier', 0.7210897207260132),\n",
       " ('centre-ville', 0.6497707962989807),\n",
       " ('municipalité', 0.6355260610580444),\n",
       " ('cité', 0.6326687335968018),\n",
       " ('quartiers', 0.6314119696617126),\n",
       " ('capitale', 0.6093603372573853),\n",
       " ('habitants', 0.5917828679084778),\n",
       " ('urbaine', 0.5913467407226562),\n",
       " ('intra-muros', 0.585793673992157),\n",
       " ('faubourgs', 0.569733202457428)]"
      ]
     },
     "execution_count": 17,
     "metadata": {},
     "output_type": "execute_result"
    }
   ],
   "source": [
    "model.most_similar(\"ville\")"
   ]
  },
  {
   "cell_type": "code",
   "execution_count": 18,
   "metadata": {},
   "outputs": [
    {
     "data": {
      "text/plain": [
       "[('régions', 0.6536632776260376),\n",
       " ('régional', 0.65205979347229),\n",
       " ('ile-de-france', 0.6321483254432678),\n",
       " ('rhône-alpes', 0.6309219002723694),\n",
       " ('régionale', 0.629917562007904),\n",
       " ('champagne-ardennes', 0.6064506769180298),\n",
       " ('pays-de-loire', 0.5895694494247437),\n",
       " ('picardie', 0.5892277359962463),\n",
       " ('nord-pas-de-calais', 0.5765109658241272),\n",
       " ('parisienne', 0.5761047601699829)]"
      ]
     },
     "execution_count": 18,
     "metadata": {},
     "output_type": "execute_result"
    }
   ],
   "source": [
    "model.most_similar(\"région\")"
   ]
  },
  {
   "cell_type": "code",
   "execution_count": 19,
   "metadata": {},
   "outputs": [
    {
     "data": {
      "text/plain": [
       "[('musical', 0.8304400444030762),\n",
       " ('musicale', 0.8088690042495728),\n",
       " ('musicaux', 0.7709059119224548),\n",
       " ('jazz', 0.7217247486114502),\n",
       " ('musiques', 0.720960259437561),\n",
       " ('musiciens', 0.7174527645111084),\n",
       " ('musicales', 0.7106088995933533),\n",
       " ('instrumentale', 0.6645092964172363),\n",
       " ('musicien', 0.6623101830482483),\n",
       " ('compositeurs', 0.6562222242355347)]"
      ]
     },
     "execution_count": 19,
     "metadata": {},
     "output_type": "execute_result"
    }
   ],
   "source": [
    "model.most_similar(\"musique\")"
   ]
  },
  {
   "cell_type": "code",
   "execution_count": 20,
   "metadata": {},
   "outputs": [
    {
     "name": "stdout",
     "output_type": "stream",
     "text": [
      "\n",
      "Mots les plus proches de 'yokohama':\n",
      "tokyo: 0.7118\n",
      "tôkyô: 0.6314\n",
      "japon: 0.6215\n",
      "nagoya: 0.6198\n",
      "kyushu: 0.6141\n",
      "\n",
      "Mots les plus proches de 'kanto':\n",
      "pokémon: 0.5426\n",
      "mewtwo: 0.5076\n",
      "pokémons: 0.4971\n",
      "saito: 0.4550\n",
      "pokédex: 0.4487\n",
      "\n",
      "Le mot 'shamisen' n'est pas dans le modèle.\n"
     ]
    }
   ],
   "source": [
    "# Liste des mots à explorer\n",
    "words_to_explore = [\"yokohama\", \"kanto\", \"shamisen\"]\n",
    "\n",
    "# Trouver et afficher les mots les plus similaires\n",
    "for word in words_to_explore:\n",
    "    if word in model:\n",
    "        print(f\"\\nMots les plus proches de '{word}':\")\n",
    "        similar_words = model.most_similar(word, topn=5)  # Top 5 mots les plus proches\n",
    "        for similar_word, similarity in similar_words:\n",
    "            print(f\"{similar_word}: {similarity:.4f}\")\n",
    "    else:\n",
    "        print(f\"\\nLe mot '{word}' n'est pas dans le modèle.\")"
   ]
  },
  {
   "cell_type": "markdown",
   "metadata": {},
   "source": [
    "#### Semantic arithmetic\n",
    "\n",
    "One of the most original properties of Word2Vec embeddings is that the semantic relationships between vectors can be modelled by arithmetic operations. Given vectors representing the words `king`, `man` and `woman`, it is possible to compute the vector `v` as :  \n",
    "\n",
    "`v = vector(king)-vector(man)+vector(woman)`\n",
    "\n",
    "This operation corresponds to the following semantic relationship: *The king is to the man what the queen is to the woman*, which translates into the following arithmetic: *the concept of king, minus the concept of man plus the concept of woman gives the concept of queen*.\n",
    "\n",
    "In fact, if we look in the embedding for the word whose closest vector is `v`, we find `reine`.\n",
    "\n",
    "#### Question: \n",
    ">* using the function [most_similar](https://radimrehurek.com/gensim/models/keyedvectors.html#gensim.models.keyedvectors.KeyedVectors.most_similar) specifying the arguments `positive` for the vectors to be added and `negative` for the vectors to be subtracted, check the relationship *the concept of king, minus the concept of man plus the concept of woman gives the concept of queen*.\n",
    ">* Using the same method, find XXX in the following semantic relations\n",
    ">   * Paris is to France what XXX is to Japan.\n",
    ">   * Chevalier is to France what XXX is to Japan."
   ]
  },
  {
   "cell_type": "code",
   "execution_count": 21,
   "metadata": {},
   "outputs": [
    {
     "data": {
      "text/plain": [
       "[('reine', 0.6945513486862183),\n",
       " ('duchesse', 0.6247551441192627),\n",
       " ('épouse', 0.6083102822303772),\n",
       " ('régente', 0.5878491997718811),\n",
       " ('duc', 0.5723880529403687),\n",
       " ('épousa', 0.5690740346908569),\n",
       " ('princesse', 0.5680873394012451),\n",
       " ('comtesse', 0.5670515894889832),\n",
       " ('isabeau', 0.5510526299476624),\n",
       " ('belle-mère', 0.523912250995636)]"
      ]
     },
     "execution_count": 21,
     "metadata": {},
     "output_type": "execute_result"
    }
   ],
   "source": [
    "model.most_similar(positive=[\"roi\", \"femme\"], negative=[\"homme\"])"
   ]
  },
  {
   "cell_type": "code",
   "execution_count": 25,
   "metadata": {},
   "outputs": [
    {
     "data": {
      "text/plain": [
       "[('tokyo', 0.6542136073112488),\n",
       " ('tôkyô', 0.6187594532966614),\n",
       " ('osaka', 0.541408121585846),\n",
       " ('japonaise', 0.537601888179779),\n",
       " ('nagoya', 0.5211064219474792),\n",
       " ('yokohama', 0.511847734451294),\n",
       " ('ueno', 0.5108345150947571),\n",
       " ('kyôto', 0.5066641569137573),\n",
       " ('japonais', 0.5055587291717529),\n",
       " ('shinjuku', 0.49769213795661926)]"
      ]
     },
     "execution_count": 25,
     "metadata": {},
     "output_type": "execute_result"
    }
   ],
   "source": [
    "model.most_similar(positive=[\"paris\", \"japon\"], negative=[\"france\"])"
   ]
  },
  {
   "cell_type": "markdown",
   "metadata": {},
   "source": [
    "On trouve bien Tokyo (la capitale du Japon) avec un score plus élevé que les autres mots, bien qu'il soit tout de même plutôt faible : 0.65. Par ailleurs, Tokyo est associé à d'autres grandes villes japonaises (Osaka, Nagoya, Yokohama, Kyôto) et à des quartiers emblématiques (Ueno, Shinjuku)."
   ]
  },
  {
   "cell_type": "code",
   "execution_count": 26,
   "metadata": {},
   "outputs": [
    {
     "data": {
      "text/plain": [
       "[('samouraï', 0.5616667866706848),\n",
       " ('samouraïs', 0.5008909106254578),\n",
       " ('edo', 0.4938366711139679),\n",
       " ('japonaise', 0.48597386479377747),\n",
       " ('chevaliers', 0.482717901468277),\n",
       " ('nihon', 0.4734313488006592),\n",
       " ('kamakura', 0.46880611777305603),\n",
       " ('kobayashi', 0.46759068965911865),\n",
       " ('abe', 0.4654414653778076),\n",
       " ('samurai', 0.4631076157093048)]"
      ]
     },
     "execution_count": 26,
     "metadata": {},
     "output_type": "execute_result"
    }
   ],
   "source": [
    "model.most_similar(positive=[\"chevalier\", \"japon\"], negative=[\"france\"])"
   ]
  },
  {
   "cell_type": "markdown",
   "metadata": {},
   "source": [
    "Samouraï est relié à son pluriel (samouraïs) et à son équivalent anglais (samurai) sont un équivalent de chevalier en France. Par ailleurs, des références historiques apparaissent (Edo, Kamakura), ainsi qu’un parallèle avec les chevaliers européens."
   ]
  },
  {
   "cell_type": "markdown",
   "metadata": {},
   "source": [
    "## Contextual embeddings with BERT \n",
    "\n",
    "BERT was one of the first freely available Transformer language models, trained on large corpora. Many other models are available on HuggingFace.\n",
    "\n",
    "As BERT is a contextual model, it is necessary to have it predict whole sentences in order to study the word embeddings it produces. In this section, we will compare the embeddings obtained for polysemous words according to the sentence in which they are used.\n",
    "\n",
    "In English, *plant* has two meanings: plant and vegetable. With a non-contextual embedding, such as Glove or Colobert, these two meanings of the word plus are associated with an identical embedding. With BERT, we'll see that the same word can have several embeddings depending on the context.\n",
    "\n",
    "First, load the BERT model and tokenizer from HuggingFace : "
   ]
  },
  {
   "cell_type": "code",
   "execution_count": 28,
   "metadata": {},
   "outputs": [
    {
     "data": {
      "application/vnd.jupyter.widget-view+json": {
       "model_id": "4ec52fbe3e3d4a8fa00692764703ac9e",
       "version_major": 2,
       "version_minor": 0
      },
      "text/plain": [
       "tokenizer_config.json:   0%|          | 0.00/48.0 [00:00<?, ?B/s]"
      ]
     },
     "metadata": {},
     "output_type": "display_data"
    },
    {
     "data": {
      "application/vnd.jupyter.widget-view+json": {
       "model_id": "665e64987a354a4188faf29349876989",
       "version_major": 2,
       "version_minor": 0
      },
      "text/plain": [
       "vocab.txt:   0%|          | 0.00/232k [00:00<?, ?B/s]"
      ]
     },
     "metadata": {},
     "output_type": "display_data"
    },
    {
     "data": {
      "application/vnd.jupyter.widget-view+json": {
       "model_id": "bc527e8439bb452f9748f7d3d7bbee72",
       "version_major": 2,
       "version_minor": 0
      },
      "text/plain": [
       "tokenizer.json:   0%|          | 0.00/466k [00:00<?, ?B/s]"
      ]
     },
     "metadata": {},
     "output_type": "display_data"
    },
    {
     "data": {
      "application/vnd.jupyter.widget-view+json": {
       "model_id": "05936584493549d292d2cacf5d73af4f",
       "version_major": 2,
       "version_minor": 0
      },
      "text/plain": [
       "config.json:   0%|          | 0.00/570 [00:00<?, ?B/s]"
      ]
     },
     "metadata": {},
     "output_type": "display_data"
    },
    {
     "data": {
      "application/vnd.jupyter.widget-view+json": {
       "model_id": "6a1f86880ac142ad8fdbd4f902778492",
       "version_major": 2,
       "version_minor": 0
      },
      "text/plain": [
       "model.safetensors:   0%|          | 0.00/440M [00:00<?, ?B/s]"
      ]
     },
     "metadata": {},
     "output_type": "display_data"
    },
    {
     "data": {
      "text/plain": [
       "BertModel(\n",
       "  (embeddings): BertEmbeddings(\n",
       "    (word_embeddings): Embedding(30522, 768, padding_idx=0)\n",
       "    (position_embeddings): Embedding(512, 768)\n",
       "    (token_type_embeddings): Embedding(2, 768)\n",
       "    (LayerNorm): LayerNorm((768,), eps=1e-12, elementwise_affine=True)\n",
       "    (dropout): Dropout(p=0.1, inplace=False)\n",
       "  )\n",
       "  (encoder): BertEncoder(\n",
       "    (layer): ModuleList(\n",
       "      (0-11): 12 x BertLayer(\n",
       "        (attention): BertAttention(\n",
       "          (self): BertSdpaSelfAttention(\n",
       "            (query): Linear(in_features=768, out_features=768, bias=True)\n",
       "            (key): Linear(in_features=768, out_features=768, bias=True)\n",
       "            (value): Linear(in_features=768, out_features=768, bias=True)\n",
       "            (dropout): Dropout(p=0.1, inplace=False)\n",
       "          )\n",
       "          (output): BertSelfOutput(\n",
       "            (dense): Linear(in_features=768, out_features=768, bias=True)\n",
       "            (LayerNorm): LayerNorm((768,), eps=1e-12, elementwise_affine=True)\n",
       "            (dropout): Dropout(p=0.1, inplace=False)\n",
       "          )\n",
       "        )\n",
       "        (intermediate): BertIntermediate(\n",
       "          (dense): Linear(in_features=768, out_features=3072, bias=True)\n",
       "          (intermediate_act_fn): GELUActivation()\n",
       "        )\n",
       "        (output): BertOutput(\n",
       "          (dense): Linear(in_features=3072, out_features=768, bias=True)\n",
       "          (LayerNorm): LayerNorm((768,), eps=1e-12, elementwise_affine=True)\n",
       "          (dropout): Dropout(p=0.1, inplace=False)\n",
       "        )\n",
       "      )\n",
       "    )\n",
       "  )\n",
       "  (pooler): BertPooler(\n",
       "    (dense): Linear(in_features=768, out_features=768, bias=True)\n",
       "    (activation): Tanh()\n",
       "  )\n",
       ")"
      ]
     },
     "execution_count": 28,
     "metadata": {},
     "output_type": "execute_result"
    }
   ],
   "source": [
    "import torch\n",
    "from transformers import BertTokenizer, BertModel\n",
    "tokenizer = BertTokenizer.from_pretrained('bert-base-uncased')\n",
    "# Load pre-trained model \n",
    "model = BertModel.from_pretrained('bert-base-uncased',\n",
    "                                  output_hidden_states = True, # to access the hidden states\n",
    "                                  )\n",
    "# set the model to \"evaluation\" mode\n",
    "model.eval()"
   ]
  },
  {
   "cell_type": "markdown",
   "metadata": {},
   "source": [
    "### Tokenizer\n",
    "\n",
    "Language models are trained with a specific breakdown of sentences into tokens. These tokens can be words or parts of words. It is necessary to use the tokenizer corresponding to each model.\n",
    "\n",
    "tokenizer.vocab.keys() gives the list of all the tokens known for the language model. \n",
    "\n",
    "#### Question\n",
    ">* How many different tokens are known to the BERT tokenizer?\n",
    ">* Display a hundred tokens at random. What do you find?"
   ]
  },
  {
   "cell_type": "code",
   "execution_count": 31,
   "metadata": {},
   "outputs": [
    {
     "name": "stdout",
     "output_type": "stream",
     "text": [
      " Number of tokens : 30522\n"
     ]
    },
    {
     "data": {
      "text/plain": [
       "['nhl',\n",
       " 'fined',\n",
       " 'subterranean',\n",
       " '##ass',\n",
       " '##pura',\n",
       " 'capitals',\n",
       " 'levine',\n",
       " 'lobbying',\n",
       " 'variously',\n",
       " 'cornwall',\n",
       " 'swap',\n",
       " 'preserving',\n",
       " 'impress',\n",
       " '##ey',\n",
       " 'quiver',\n",
       " '##ʌ',\n",
       " '##id',\n",
       " 'fifteen',\n",
       " 'december',\n",
       " '##ע',\n",
       " 'minded',\n",
       " 'navigate',\n",
       " '##nessy',\n",
       " 'airmen',\n",
       " 'spawning',\n",
       " '[unused93]',\n",
       " 'shore',\n",
       " '[unused679]',\n",
       " 'bard',\n",
       " 'labs',\n",
       " 'threat',\n",
       " 'locked',\n",
       " 'crushing',\n",
       " '##tial',\n",
       " 'plates',\n",
       " '##iers',\n",
       " 'underwater',\n",
       " 'macleod',\n",
       " '##rgos',\n",
       " 'researches',\n",
       " 'clones',\n",
       " 'rancho',\n",
       " 'prowess',\n",
       " '##llo',\n",
       " '##yeh',\n",
       " 'athletics',\n",
       " 'charleston',\n",
       " 'berry',\n",
       " 'elder',\n",
       " 'prostate',\n",
       " '##aries',\n",
       " 'vial',\n",
       " 'engravings',\n",
       " 'trimmed',\n",
       " '[unused236]',\n",
       " 'sin',\n",
       " 'ethel',\n",
       " 'λ',\n",
       " \"'\",\n",
       " 'hayden',\n",
       " '##vo',\n",
       " 'congressman',\n",
       " 'giacomo',\n",
       " 'arson',\n",
       " '[unused526]',\n",
       " '##tino',\n",
       " 'whatever',\n",
       " 'boom',\n",
       " 'teasing',\n",
       " '##ining',\n",
       " 'throw',\n",
       " 'hound',\n",
       " '##rcus',\n",
       " 'ে',\n",
       " 'winery',\n",
       " '##nnis',\n",
       " 'cultural',\n",
       " 'nationale',\n",
       " 'malayalam',\n",
       " '##riated',\n",
       " 'theatrical',\n",
       " '辶',\n",
       " '##note',\n",
       " 'happier',\n",
       " 'mohammad',\n",
       " '##mers',\n",
       " 'attributed',\n",
       " 'blinded',\n",
       " 'blizzard',\n",
       " 'ʷ',\n",
       " 'souls',\n",
       " 'fuss',\n",
       " 'cola',\n",
       " 'jp',\n",
       " 'preliminary',\n",
       " 'resign',\n",
       " '##otic',\n",
       " '##ぬ',\n",
       " 'к',\n",
       " '龸']"
      ]
     },
     "execution_count": 31,
     "metadata": {},
     "output_type": "execute_result"
    }
   ],
   "source": [
    "import random\n",
    "# number of token in tokenizer\n",
    "print(' Number of tokens :',len(tokenizer.vocab))\n",
    "# sample of 100 tokens\n",
    "random.sample(list(tokenizer.vocab.keys()), 100)\n"
   ]
  },
  {
   "cell_type": "markdown",
   "metadata": {},
   "source": [
    "Certains tokens sont des mots entiers, d'autres sont des fragments (ex : \"##otic\", \"##nessy\", ##id\",...).\n",
    "Certains sont des caractères issus de différents alphabets, comme l’hébreu (##ע), le japonais (##ぬ), le cyrillique (к) et le chinois (龸). Cela reflète la tokenisation WordPiece de BERT, qui segmente les mots rares ou complexes en sous-unités plus petites et inclut des caractères multilingues, même dans un modèle anglais \"uncased\".\n",
    "Les mots sont en minuscule, car le modèle est uncased (insensible à la casse)."
   ]
  },
  {
   "cell_type": "markdown",
   "metadata": {},
   "source": [
    "The tokenizer splits sentences and transforms the elements (words or sub-words) into clues. \n",
    "\n",
    "BERT can process several sentences, but you need to tell it how the sentences (segments) have been split, with an index: 0 for the first sentence, 1 for the second. \n",
    "\n",
    "Two specific tokens must also be added: \n",
    "* CLS], a specific token used for sentence classification\n",
    "* SEP], the end of sentence token.\n",
    "\n",
    "#### Question\n",
    ">* Apply the bert_tokenize function to the 3 phases and keep the 3 vectors (index, token, segment).\n",
    ">* Display this information for each of the sentences and check that the word *plant* has the same token index in the two sentences in which it appears."
   ]
  },
  {
   "cell_type": "code",
   "execution_count": 36,
   "metadata": {},
   "outputs": [],
   "source": [
    "snt1 = \"The plant has reached its maximal level of production.\"\n",
    "snt2 = \"The cars are assembled inside the factory.\"\n",
    "snt3 = \"A plant needs sunlight and water to grow well.\"\n",
    "\n",
    "\n",
    "def bert_tokenize(snt):\n",
    "    \"\"\" Apply the BERT tokenizer to a list of words representing a sentence\n",
    "        and return 3 lists: \n",
    "        - list of token indx\n",
    "        - list of token for debugging, not used by the BERT model\n",
    "        - list of sentence index\n",
    "        \"\"\"\n",
    "    # Add the special tokens.\n",
    "    tagged_snt = \"[CLS] \" + snt + \" [SEP]\" \n",
    "    # Tokenize\n",
    "    tokenized_snt = tokenizer.tokenize(tagged_snt)\n",
    "    # convert tokens to indices\n",
    "    indexed_snt = tokenizer.convert_tokens_to_ids(tokenized_snt)\n",
    "    # mark the words in sentence.\n",
    "    segments_ids = [1] * len(tokenized_snt)\n",
    "\n",
    "    return (indexed_snt, tokenized_snt, segments_ids)\n",
    "\n",
    "# Tokenisation des phrases\n",
    "indexed_snt1, tokenized_snt1, segments_snt1 = bert_tokenize(snt1)\n",
    "indexed_snt2, tokenized_snt2, segments_snt2 = bert_tokenize(snt2)\n",
    "indexed_snt3, tokenized_snt3, segments_snt3 = bert_tokenize(snt3)"
   ]
  },
  {
   "cell_type": "code",
   "execution_count": 37,
   "metadata": {},
   "outputs": [],
   "source": [
    "# Affichage des résultats\n",
    "def display_tokens(indexed_snt, tokenized_snt, segments_snt, snt_label):\n",
    "    print(f\"Phrase: {snt_label}\")\n",
    "    for idx, (i, t, s) in enumerate(zip(indexed_snt, tokenized_snt, segments_snt)):\n",
    "        print(f\"{idx:02d} - Index: {i}, Token: {t}, Segment: {s}\")\n",
    "    print(\"\\n\")"
   ]
  },
  {
   "cell_type": "code",
   "execution_count": 38,
   "metadata": {},
   "outputs": [
    {
     "name": "stdout",
     "output_type": "stream",
     "text": [
      "Phrase: snt1\n",
      "00 - Index: 101, Token: [CLS], Segment: 1\n",
      "01 - Index: 1996, Token: the, Segment: 1\n",
      "02 - Index: 3269, Token: plant, Segment: 1\n",
      "03 - Index: 2038, Token: has, Segment: 1\n",
      "04 - Index: 2584, Token: reached, Segment: 1\n",
      "05 - Index: 2049, Token: its, Segment: 1\n",
      "06 - Index: 29160, Token: maximal, Segment: 1\n",
      "07 - Index: 2504, Token: level, Segment: 1\n",
      "08 - Index: 1997, Token: of, Segment: 1\n",
      "09 - Index: 2537, Token: production, Segment: 1\n",
      "10 - Index: 1012, Token: ., Segment: 1\n",
      "11 - Index: 102, Token: [SEP], Segment: 1\n",
      "\n",
      "\n"
     ]
    }
   ],
   "source": [
    "display_tokens(indexed_snt1, tokenized_snt1, segments_snt1, \"snt1\")"
   ]
  },
  {
   "cell_type": "code",
   "execution_count": 39,
   "metadata": {},
   "outputs": [
    {
     "name": "stdout",
     "output_type": "stream",
     "text": [
      "Phrase: snt2\n",
      "00 - Index: 101, Token: [CLS], Segment: 1\n",
      "01 - Index: 1996, Token: the, Segment: 1\n",
      "02 - Index: 3765, Token: cars, Segment: 1\n",
      "03 - Index: 2024, Token: are, Segment: 1\n",
      "04 - Index: 9240, Token: assembled, Segment: 1\n",
      "05 - Index: 2503, Token: inside, Segment: 1\n",
      "06 - Index: 1996, Token: the, Segment: 1\n",
      "07 - Index: 4713, Token: factory, Segment: 1\n",
      "08 - Index: 1012, Token: ., Segment: 1\n",
      "09 - Index: 102, Token: [SEP], Segment: 1\n",
      "\n",
      "\n"
     ]
    }
   ],
   "source": [
    "display_tokens(indexed_snt2, tokenized_snt2, segments_snt2, \"snt2\")"
   ]
  },
  {
   "cell_type": "code",
   "execution_count": 40,
   "metadata": {},
   "outputs": [
    {
     "name": "stdout",
     "output_type": "stream",
     "text": [
      "Phrase: snt3\n",
      "00 - Index: 101, Token: [CLS], Segment: 1\n",
      "01 - Index: 1037, Token: a, Segment: 1\n",
      "02 - Index: 3269, Token: plant, Segment: 1\n",
      "03 - Index: 3791, Token: needs, Segment: 1\n",
      "04 - Index: 9325, Token: sunlight, Segment: 1\n",
      "05 - Index: 1998, Token: and, Segment: 1\n",
      "06 - Index: 2300, Token: water, Segment: 1\n",
      "07 - Index: 2000, Token: to, Segment: 1\n",
      "08 - Index: 4982, Token: grow, Segment: 1\n",
      "09 - Index: 2092, Token: well, Segment: 1\n",
      "10 - Index: 1012, Token: ., Segment: 1\n",
      "11 - Index: 102, Token: [SEP], Segment: 1\n",
      "\n",
      "\n"
     ]
    }
   ],
   "source": [
    "display_tokens(indexed_snt3, tokenized_snt3, segments_snt3, \"snt3\")"
   ]
  },
  {
   "cell_type": "markdown",
   "metadata": {},
   "source": [
    "Le mot 'plant' a bien le même token index dans les deux phrases, qui est 3269."
   ]
  },
  {
   "cell_type": "markdown",
   "metadata": {
    "jp-MarkdownHeadingCollapsed": true
   },
   "source": [
    "## Inference\n",
    "\n",
    "To calculate embeddings, we need to make a prediction using the BERT model on a complete sentence. The *predict_hidden* function converts the token and segment index lists into a pytorch tensor and applies the model. \n",
    "\n",
    "The model used is a 12-layer model. We will use the last hidden layer of the model as an embedding to represent the words. Other solutions are possible, such as concatenation or averaging of several layers.\n",
    "\n",
    "\n",
    "#### Question\n",
    ">* Apply the model to each of the 3 sentences and store the resulting embeddings (tensors).\n",
    ">* Display the dimension of the resulting tensors. What is the dimension of the embedding vector for each word?"
   ]
  },
  {
   "cell_type": "code",
   "execution_count": 41,
   "metadata": {},
   "outputs": [
    {
     "name": "stdout",
     "output_type": "stream",
     "text": [
      "Taille de la couche cachée pour snt1: torch.Size([12, 768])\n",
      "Taille de la couche cachée pour snt2: torch.Size([10, 768])\n",
      "Taille de la couche cachée pour snt3: torch.Size([12, 768])\n"
     ]
    }
   ],
   "source": [
    "def predict_hidden(indexed_snt, segments_ids):\n",
    "    \"\"\"Apply the BERT model to the input token indices and segment indices\n",
    "        and return the last hidden layer\n",
    "    \"\"\"\n",
    "    with torch.no_grad():\n",
    "        # Convert inputs to PyTorch tensors\n",
    "        tokens_tensor = torch.tensor([indexed_snt])\n",
    "        segments_tensors = torch.tensor([segments_ids])\n",
    "        outputs = model(tokens_tensor, segments_tensors)\n",
    "        hidden_states = outputs[2]\n",
    "        one_hidden_layer = hidden_states[12][0]\n",
    "        \n",
    "    return one_hidden_layer\n",
    "\n",
    "# Prédiction des couches cachées\n",
    "hidden_snt1 = predict_hidden(indexed_snt1, segments_snt1)\n",
    "hidden_snt2 = predict_hidden(indexed_snt2, segments_snt2)\n",
    "hidden_snt3 = predict_hidden(indexed_snt3, segments_snt3)\n",
    "\n",
    "# Affichage des résultats\n",
    "print(\"Taille de la couche cachée pour snt1:\", hidden_snt1.shape)\n",
    "print(\"Taille de la couche cachée pour snt2:\", hidden_snt2.shape)\n",
    "print(\"Taille de la couche cachée pour snt3:\", hidden_snt3.shape)\n"
   ]
  },
  {
   "cell_type": "markdown",
   "metadata": {},
   "source": [
    "Chaque phrase a un nombre de tokens différent (12, 10, 12), ce qui correspond au nombre total de tokens après tokenisation par BERT.\n",
    "Chaque token est représenté par un vecteur d'embedding de 768 dimensions."
   ]
  },
  {
   "cell_type": "markdown",
   "metadata": {},
   "source": [
    "The hidden layer returned by the *predict_hidden* function is a tensor containing a context vector representing each token in the input sentence. We can use this vector to represent the meaning of this word as a function of its context. We're going to compare the representation of the polysemous word *plant* as a function of its context.\n",
    "\n",
    "#### Question\n",
    ">* Using the [cosine distance](https://docs.scipy.org/doc/scipy/reference/generated/scipy.spatial.distance.cosine.html), calculate the following distances:\n",
    "> * distance between *plant* in sentence 1 (plant-factory) and *plant* in sentence 3 (plant-vegetal)\n",
    "> * distance between *plant* in sentence 1 (plant-factory) and *factory* in sentence 2 (plant-vegetal) \n",
    "> * distance between *plant* in sentence 1 (plant-factory) and *production* in sentence 2 \n",
    "> distance between *plant* in sentence 3 (plant-vegetal) and *production* in sentence 2 \n",
    "> How can we interpret these distances?"
   ]
  },
  {
   "cell_type": "code",
   "execution_count": 42,
   "metadata": {},
   "outputs": [
    {
     "name": "stdout",
     "output_type": "stream",
     "text": [
      "Distance cosinus entre 'plant' (snt1) et 'plant' (snt3) : 0.4987\n",
      "Distance cosinus entre 'plant' (snt1) et 'factory' (snt2) : 0.3123\n",
      "Distance cosinus entre 'plant' (snt1) et 'production' (snt1) : 0.2402\n",
      "Distance cosinus entre 'plant' (snt3) et 'production' (snt1) : 0.6200\n"
     ]
    }
   ],
   "source": [
    "from scipy.spatial.distance import cosine\n",
    "\n",
    "# Trouver l'index du mot \"plant\" dans les phrases 1 et 3\n",
    "idx_plant_snt1 = tokenized_snt1.index(\"plant\")\n",
    "idx_plant_snt3 = tokenized_snt3.index(\"plant\")\n",
    "\n",
    "# Trouver les indices de \"factory\" et \"production\" dans la phrase 2\n",
    "idx_factory_snt2 = tokenized_snt2.index(\"factory\")\n",
    "idx_production_snt1 = tokenized_snt1.index(\"production\")\n",
    "\n",
    "# Extraire les embeddings (en prenant la dernière couche cachée du modèle)\n",
    "with torch.no_grad():\n",
    "    outputs_snt1 = model(torch.tensor([indexed_snt1]))[2][-1]  # Dernière couche cachée\n",
    "    outputs_snt2 = model(torch.tensor([indexed_snt2]))[2][-1]\n",
    "    outputs_snt3 = model(torch.tensor([indexed_snt3]))[2][-1]\n",
    "\n",
    "# Récupérer les embeddings des mots cibles\n",
    "embed_plant_snt1 = outputs_snt1[0, idx_plant_snt1, :].numpy()\n",
    "embed_plant_snt3 = outputs_snt3[0, idx_plant_snt3, :].numpy()\n",
    "embed_factory_snt2 = outputs_snt2[0, idx_factory_snt2, :].numpy()\n",
    "embed_production_snt1 = outputs_snt1[0, idx_production_snt1, :].numpy()\n",
    "\n",
    "# Calcul des distances cosinus\n",
    "dist_plant1_plant3 = cosine(embed_plant_snt1, embed_plant_snt3)\n",
    "dist_plant1_factory = cosine(embed_plant_snt1, embed_factory_snt2)\n",
    "dist_plant1_production = cosine(embed_plant_snt1, embed_production_snt1)\n",
    "dist_plant3_production = cosine(embed_plant_snt3, embed_production_snt1)\n",
    "\n",
    "# Affichage des résultats\n",
    "print(f\"Distance cosinus entre 'plant' (snt1) et 'plant' (snt3) : {dist_plant1_plant3:.4f}\")\n",
    "print(f\"Distance cosinus entre 'plant' (snt1) et 'factory' (snt2) : {dist_plant1_factory:.4f}\")\n",
    "print(f\"Distance cosinus entre 'plant' (snt1) et 'production' (snt1) : {dist_plant1_production:.4f}\")\n",
    "print(f\"Distance cosinus entre 'plant' (snt3) et 'production' (snt1) : {dist_plant3_production:.4f}\")\n"
   ]
  },
  {
   "cell_type": "markdown",
   "metadata": {},
   "source": [
    "Distance entre 'plant' (snt1) et 'plant' (snt3) : 0.4987\n",
    "→ La distance n’est pas proche de 0, ce qui indique que BERT distingue bien les deux sens du mot \"plant\" (usine vs végétal). Il reconnaît que ce sont des homonymes ayant des significations différentes selon le contexte.\n",
    "\n",
    "Distance entre 'plant' (snt1) et 'factory' (snt2) : 0.3123\n",
    "→ Cette distance est relativement faible, ce qui signifie que BERT comprend que \"plant\" dans la phrase 1 (sens d’usine) est sémantiquement proche de \"factory\". Le modèle capture bien le sens industriel de \"plant\".\n",
    "\n",
    "Distance entre 'plant' (snt1) et 'production' (snt1) : 0.2402\n",
    "→ La plus petite distance parmi les quatre, indiquant une forte similarité sémantique entre \"plant\" (usine) et \"production\". \n",
    "\n",
    "Distance entre 'plant' (snt3) et 'production' (snt1) : 0.6200\n",
    "→ C'est la plus grande distance, ce qui montre que \"plant\" (végétal) et \"production\" (dans un contexte industriel) sont des concepts éloignés."
   ]
  }
 ],
 "metadata": {
  "kernelspec": {
   "display_name": "Python 3",
   "language": "python",
   "name": "python3"
  },
  "language_info": {
   "codemirror_mode": {
    "name": "ipython",
    "version": 3
   },
   "file_extension": ".py",
   "mimetype": "text/x-python",
   "name": "python",
   "nbconvert_exporter": "python",
   "pygments_lexer": "ipython3",
   "version": "3.11.9"
  }
 },
 "nbformat": 4,
 "nbformat_minor": 4
}
